{
  "nbformat": 4,
  "nbformat_minor": 0,
  "metadata": {
    "colab": {
      "provenance": [],
      "authorship_tag": "ABX9TyMk3WA8xfa/v9ym1qotZdrf",
      "include_colab_link": true
    },
    "kernelspec": {
      "name": "python3",
      "display_name": "Python 3"
    },
    "language_info": {
      "name": "python"
    }
  },
  "cells": [
    {
      "cell_type": "markdown",
      "metadata": {
        "id": "view-in-github",
        "colab_type": "text"
      },
      "source": [
        "<a href=\"https://colab.research.google.com/github/ardaedil/HanoiTowers/blob/main/Hanoi.ipynb\" target=\"_parent\"><img src=\"https://colab.research.google.com/assets/colab-badge.svg\" alt=\"Open In Colab\"/></a>"
      ]
    },
    {
      "cell_type": "code",
      "execution_count": 5,
      "metadata": {
        "id": "I1jta3naEmV6"
      },
      "outputs": [],
      "source": [
        "def is_valid_state(state):\n",
        "    # First we need to check if we have exactly 3 towers.\n",
        "    if len(state) != 3:\n",
        "        return False\n",
        "\n",
        "    # Now we need to check if the discs in each tower are in non-decreasing order. If they are, the input doesn't abide by the rules.\n",
        "    for tower in state:\n",
        "        for i in range(len(tower) - 1):\n",
        "            if tower[i] > tower[i + 1]:\n",
        "                return False\n",
        "\n",
        "    return True\n"
      ]
    },
    {
      "cell_type": "code",
      "source": [
        "def hanoi_moves(state):\n",
        "  # We first check if the input is correct. If it's not, we return an empty list since we cannot come up with a correct outcome.\n",
        "  if not is_valid_state(state):\n",
        "    return []\n",
        "\n",
        "  moves = [] # We initialize an empty list called moves to store the possible moves we can make.\n",
        "\n",
        "  for source in range(3): # The source towers are the towers in which the disks move from\n",
        "    for target in range(3): # The target towers are the towers in which the disks went to.\n",
        "      if source != target: # We check if source and target are the same or not since if they were the same the disk wouldn't be able to move to its own tower...\n",
        "        source_tower, target_tower = state[source], state[target] # We use tupple unpacking to assign lists from the \"state\" list to variables.\n",
        "        if source_tower and (not target_tower or source_tower[0] < target_tower[0]): #If there are discs in source tower and there are no discs in target tower or the outermost disc in source tower is smaller than the outermost disc in target towers...\n",
        "          moves.append((source, target)) #Since conditions were met we can append a tupple (source, target) to the moves list. This tupple represents a possible move from source to target.\n",
        "  return moves #Example: (0, 2) --> source = 0, target = 2.\n",
        "\n",
        "\n",
        "\n"
      ],
      "metadata": {
        "id": "_9e0LJeWJOK3"
      },
      "execution_count": 6,
      "outputs": []
    },
    {
      "cell_type": "code",
      "source": [
        "def generate_next_states(state, move): #This function will generate the next states after a predicted move\n",
        "    if not is_valid_state(state):  # First, we check if the input state is valid. If not, we return None.\n",
        "        return None\n",
        "\n",
        "    source, target = move\n",
        "    new_state = [list(tower) for tower in state]\n",
        "\n",
        "    if new_state[source]: # Check if there are disks in the source tower to move.\n",
        "        disk = new_state[source].pop(0) # If there are disks in the source tower, we pop the top disk (disk with index 0).\n",
        "        new_state[target].insert(0, disk) # # Then, we insert the popped disk at the top of the target tower (index 0).\n",
        "\n",
        "    return new_state"
      ],
      "metadata": {
        "id": "9dl8p9JVStqu"
      },
      "execution_count": 7,
      "outputs": []
    },
    {
      "cell_type": "code",
      "source": [
        "input_state = [[3, 4, 5], [1], [2]]"
      ],
      "metadata": {
        "id": "y8NLDvYkFZWN"
      },
      "execution_count": 14,
      "outputs": []
    },
    {
      "cell_type": "code",
      "source": [
        "len(input_state)"
      ],
      "metadata": {
        "colab": {
          "base_uri": "https://localhost:8080/"
        },
        "id": "UkqGYhwyQ9tr",
        "outputId": "3e824671-d407-4792-9df5-e1bf3cbf48a0"
      },
      "execution_count": 16,
      "outputs": [
        {
          "output_type": "execute_result",
          "data": {
            "text/plain": [
              "3"
            ]
          },
          "metadata": {},
          "execution_count": 16
        }
      ]
    },
    {
      "cell_type": "code",
      "source": [
        "#Calculate possible moves\n",
        "possible_moves = hanoi_moves(input_state)\n",
        "if possible_moves:\n",
        "    print(\"Possible moves:\")\n",
        "    for move in possible_moves: #For each (source, target) in this function...\n",
        "        print(move) #Ex: (1, 0)\n",
        "        print(\"Updated states after the move:\")\n",
        "        new_state = generate_next_states(input_state, move)\n",
        "        if new_state is not None:\n",
        "            for tower in new_state:\n",
        "                print(tower)\n",
        "        else:\n",
        "            print(\"Invalid move\")\n",
        "else:\n",
        "    print(\"No valid moves from the given state\")"
      ],
      "metadata": {
        "colab": {
          "base_uri": "https://localhost:8080/"
        },
        "id": "MX-oqaf7N2Ss",
        "outputId": "d5c69981-3cb6-4bb7-9784-349b63419c9d"
      },
      "execution_count": 15,
      "outputs": [
        {
          "output_type": "stream",
          "name": "stdout",
          "text": [
            "Possible moves:\n",
            "(1, 0)\n",
            "Updated states after the move:\n",
            "[1, 3, 4, 5]\n",
            "[]\n",
            "[2]\n",
            "(1, 2)\n",
            "Updated states after the move:\n",
            "[3, 4, 5]\n",
            "[]\n",
            "[1, 2]\n",
            "(2, 0)\n",
            "Updated states after the move:\n",
            "[2, 3, 4, 5]\n",
            "[1]\n",
            "[]\n"
          ]
        }
      ]
    }
  ]
}